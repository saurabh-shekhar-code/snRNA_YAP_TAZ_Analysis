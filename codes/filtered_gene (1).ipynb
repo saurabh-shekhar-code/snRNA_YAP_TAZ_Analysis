{
 "cells": [
  {
   "cell_type": "code",
   "execution_count": 1,
   "id": "fb9df967-11ec-4766-87e5-5d23e9c287e3",
   "metadata": {},
   "outputs": [
    {
     "name": "stdout",
     "output_type": "stream",
     "text": [
      "Sample Genes:\n",
      "                0              1                2                3\n",
      "0         Column1      Gene_Name     Feature_Type          Gene_ID\n",
      "1    RP11-34P13.7   RP11-34P13.7  Gene Expression  ENSG00000238009\n",
      "2      FO538757.3     FO538757.3  Gene Expression  ENSG00000279928\n",
      "3      FO538757.2     FO538757.2  Gene Expression  ENSG00000279457\n",
      "4      AP006222.2     AP006222.2  Gene Expression  ENSG00000228463\n",
      "5   RP4-669L17.10  RP4-669L17.10  Gene Expression  ENSG00000237094\n",
      "6    RP5-857K21.4   RP5-857K21.4  Gene Expression  ENSG00000230021\n",
      "7   RP11-206L10.9  RP11-206L10.9  Gene Expression  ENSG00000237491\n",
      "8       LINC00115      LINC00115  Gene Expression  ENSG00000225880\n",
      "9          FAM41C         FAM41C  Gene Expression  ENSG00000230368\n",
      "10    RP11-54O7.3    RP11-54O7.3  Gene Expression  ENSG00000223764\n",
      "11         SAMD11         SAMD11  Gene Expression  ENSG00000187634\n",
      "12          NOC2L          NOC2L  Gene Expression  ENSG00000188976\n",
      "13         KLHL17         KLHL17  Gene Expression  ENSG00000187961\n",
      "14        PLEKHN1        PLEKHN1  Gene Expression  ENSG00000187583\n",
      "15          PERM1          PERM1  Gene Expression  ENSG00000187642\n",
      "16   RP11-54O7.17   RP11-54O7.17  Gene Expression  ENSG00000272512\n",
      "17           HES4           HES4  Gene Expression  ENSG00000188290\n",
      "18          ISG15          ISG15  Gene Expression  ENSG00000187608\n",
      "19           AGRN           AGRN  Gene Expression  ENSG00000188157\n",
      "\n",
      "Total Number of Genes: 29766\n"
     ]
    }
   ],
   "source": [
    "\n",
    "\n",
    "import pandas as pd\n",
    "\n",
    "# Path to the genes.tsv file\n",
    "genes_file =r\"C:\\Users\\saurabh shekhar\\Downloads\\merged_genes.tsv\"\n",
    "\n",
    "# Load the genes.tsv file\n",
    "# If the file has two columns: Ensembl ID and Gene Name\n",
    "genes = pd.read_csv(genes_file, header=None, sep='\\t')\n",
    "\n",
    "\n",
    "print(\"Sample Genes:\")\n",
    "print(genes.head(20))\n",
    "\n",
    "# Total number of genes\n",
    "total_genes = genes.shape[0]\n",
    "print(f\"\\nTotal Number of Genes: {total_genes}\")\n"
   ]
  },
  {
   "cell_type": "code",
   "execution_count": 5,
   "id": "d6d3760a-5863-49dd-a06b-cb8ed68d62a6",
   "metadata": {},
   "outputs": [
    {
     "name": "stdout",
     "output_type": "stream",
     "text": [
      "Sample Genes:\n",
      "          Column1      Gene_Name     Feature_Type          Gene_ID\n",
      "0         Column1      Gene_Name     Feature_Type          Gene_ID\n",
      "1    RP11-34P13.7   RP11-34P13.7  Gene Expression  ENSG00000238009\n",
      "2      FO538757.3     FO538757.3  Gene Expression  ENSG00000279928\n",
      "3      FO538757.2     FO538757.2  Gene Expression  ENSG00000279457\n",
      "4      AP006222.2     AP006222.2  Gene Expression  ENSG00000228463\n",
      "5   RP4-669L17.10  RP4-669L17.10  Gene Expression  ENSG00000237094\n",
      "6    RP5-857K21.4   RP5-857K21.4  Gene Expression  ENSG00000230021\n",
      "7   RP11-206L10.9  RP11-206L10.9  Gene Expression  ENSG00000237491\n",
      "8       LINC00115      LINC00115  Gene Expression  ENSG00000225880\n",
      "9          FAM41C         FAM41C  Gene Expression  ENSG00000230368\n",
      "10    RP11-54O7.3    RP11-54O7.3  Gene Expression  ENSG00000223764\n",
      "11         SAMD11         SAMD11  Gene Expression  ENSG00000187634\n",
      "12          NOC2L          NOC2L  Gene Expression  ENSG00000188976\n",
      "13         KLHL17         KLHL17  Gene Expression  ENSG00000187961\n",
      "14        PLEKHN1        PLEKHN1  Gene Expression  ENSG00000187583\n",
      "15          PERM1          PERM1  Gene Expression  ENSG00000187642\n",
      "16   RP11-54O7.17   RP11-54O7.17  Gene Expression  ENSG00000272512\n",
      "17           HES4           HES4  Gene Expression  ENSG00000188290\n",
      "18          ISG15          ISG15  Gene Expression  ENSG00000187608\n",
      "19           AGRN           AGRN  Gene Expression  ENSG00000188157\n",
      "\n",
      "Total Number of Genes: 29766\n",
      "\n",
      "Filtered Genes (YAP1 and TAZ):\n",
      "      Column1 Gene_Name     Feature_Type          Gene_ID\n",
      "4418    WWTR1     WWTR1  Gene Expression  ENSG00000018408\n",
      "11693    YAP1      YAP1  Gene Expression  ENSG00000137693\n"
     ]
    }
   ],
   "source": [
    "import pandas as pd\n",
    "\n",
    "# Path to the genes.tsv file\n",
    "genes_file = r\"C:\\Users\\saurabh shekhar\\Downloads\\merged_genes.tsv\"\n",
    "\n",
    "# Load the genes.tsv file (assuming it has 4 columns based on your previous example)\n",
    "genes = pd.read_csv(genes_file, header=None, sep='\\t')\n",
    "\n",
    "# Assign column names (based on your sample data structure)\n",
    "genes.columns = ['Column1', 'Gene_Name', 'Feature_Type', 'Gene_ID']\n",
    "\n",
    "# Display sample genes\n",
    "print(\"Sample Genes:\")\n",
    "print(genes.head(20))\n",
    "\n",
    "# Total number of genes\n",
    "total_genes = genes.shape[0]\n",
    "print(f\"\\nTotal Number of Genes: {total_genes}\")\n",
    "\n",
    "# Define Gene_IDs of interest (WWTR1/TAZ and YAP1)\n",
    "genes_of_interest = ['ENSG00000018408', 'ENSG00000137693']\n",
    "\n",
    "# Filter the DataFrame for these Gene_IDs\n",
    "filtered_genes = genes[genes['Gene_ID'].isin(genes_of_interest)]\n",
    "\n",
    "# Display the filtered genes\n",
    "print(\"\\nFiltered Genes (YAP1 and TAZ):\")\n",
    "print(filtered_genes)\n"
   ]
  },
  {
   "cell_type": "code",
   "execution_count": null,
   "id": "42816da3-d63c-4f0d-bdec-0226ac964184",
   "metadata": {},
   "outputs": [],
   "source": [
    "\n",
    "import pandas as pd\n",
    "\n",
    "# Path to the genes.tsv file\n",
    "genes_file =r\"E:\\iiser_project\\broad_filtered\\matrix.mtx\"\n",
    "\n",
    "# Load the genes.tsv file\n",
    "# If the file has two columns: Ensembl ID and Gene Name\n",
    "genes = pd.read_csv(genes_file, header=None, sep='\\t')\n",
    "\n",
    "\n",
    "print(\"Sample Genes:\")\n",
    "print(genes.head(20))"
   ]
  },
  {
   "cell_type": "code",
   "execution_count": null,
   "id": "73faccb9-4143-4468-87fb-b57cb4d6dd28",
   "metadata": {},
   "outputs": [],
   "source": []
  }
 ],
 "metadata": {
  "kernelspec": {
   "display_name": "Python 3 (ipykernel)",
   "language": "python",
   "name": "python3"
  },
  "language_info": {
   "codemirror_mode": {
    "name": "ipython",
    "version": 3
   },
   "file_extension": ".py",
   "mimetype": "text/x-python",
   "name": "python",
   "nbconvert_exporter": "python",
   "pygments_lexer": "ipython3",
   "version": "3.11.5"
  }
 },
 "nbformat": 4,
 "nbformat_minor": 5
}

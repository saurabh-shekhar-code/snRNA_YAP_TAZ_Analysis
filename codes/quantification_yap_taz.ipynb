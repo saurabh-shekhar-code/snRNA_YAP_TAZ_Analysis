{
 "cells": [
  {
   "cell_type": "code",
   "execution_count": 2,
   "id": "9b98bef0-c483-4c91-b691-11f465d89d6b",
   "metadata": {},
   "outputs": [
    {
     "name": "stdout",
     "output_type": "stream",
     "text": [
      "Patient-specific folders with matrix files created successfully.\n"
     ]
    }
   ],
   "source": [
    "import os\n",
    "import pandas as pd\n",
    "from scipy.io import mmread, mmwrite\n",
    "from scipy.sparse import coo_matrix\n",
    "\n",
    "# Define file paths\n",
    "genes_file = r\"E:\\iiser_project\\broad_filtered\\merged_genes.tsv\"\n",
    "barcodes_file =  r\"E:\\iiser_project\\broad_filtered\\barcodes.tsv\"\n",
    "mtx_file = r\"E:\\iiser_project\\broad_filtered\\matrix.mtx\"\n",
    "\n",
    "# Load barcodes and extract patient IDs\n",
    "barcodes = pd.read_csv(barcodes_file, header=None)\n",
    "barcodes.columns = ['barcode']\n",
    "barcodes['patient_id'] = barcodes['barcode'].apply(lambda x: x.split('_')[0])\n",
    "unique_patients = barcodes['patient_id'].unique()\n",
    "\n",
    "# Load the matrix\n",
    "mtx = mmread(mtx_file).tocsc()  # Convert to CSC format for efficient column slicing\n",
    "\n",
    "# Loop through each patient\n",
    "for patient_id in unique_patients:\n",
    "    # Create folder for each patient\n",
    "    patient_folder = f\"./{patient_id}\"\n",
    "    os.makedirs(patient_folder, exist_ok=True)\n",
    "    \n",
    "    # Filter barcodes for the current patient\n",
    "    patient_barcodes = barcodes[barcodes['patient_id'] == patient_id]\n",
    "    patient_barcode_indices = patient_barcodes.index.values\n",
    "    \n",
    "    # Extract the patient-specific matrix columns\n",
    "    patient_mtx = mtx[:, patient_barcode_indices]\n",
    "    \n",
    "    # Save the patient-specific files\n",
    "    patient_barcodes[['barcode']].to_csv(f\"{patient_folder}/barcodes.tsv\", header=False, index=False)\n",
    "    pd.read_csv(genes_file, sep=\"\\t\").to_csv(f\"{patient_folder}/genes.tsv\", sep=\"\\t\", index=False)\n",
    "    mmwrite(f\"{patient_folder}/matrix.mtx\", patient_mtx)\n",
    "\n",
    "print(\"Patient-specific folders with matrix files created successfully.\")\n"
   ]
  },
  {
   "cell_type": "code",
   "execution_count": 3,
   "id": "00a3a4d4-7c0a-482f-9cde-456a45804eab",
   "metadata": {},
   "outputs": [
    {
     "name": "stdout",
     "output_type": "stream",
     "text": [
      "Current working directory: C:\\Users\\saurabh shekhar\n"
     ]
    }
   ],
   "source": [
    "print(\"Current working directory:\", os.getcwd())\n"
   ]
  },
  {
   "cell_type": "code",
   "execution_count": 1,
   "id": "d0a92574-5a49-455c-acd7-3bb2d642ac09",
   "metadata": {},
   "outputs": [
    {
     "name": "stdout",
     "output_type": "stream",
     "text": [
      "Number of cells: 6178\n"
     ]
    }
   ],
   "source": [
    "import pandas as pd\n",
    "\n",
    "# Load the barcodes file\n",
    "barcodes_file_path = r\"E:\\iiser_project\\broad_filtered\\patient_mtx_features_barcodes\\CID3586\\barcodes.tsv\"\n",
    "\n",
    "# Read the barcodes file\n",
    "barcodes = pd.read_csv(barcodes_file_path, header=None)\n",
    "\n",
    "# Count the number of rows, which corresponds to the number of cells\n",
    "num_cells = barcodes.shape[0]\n",
    "\n",
    "print(f\"Number of cells: {num_cells}\")\n"
   ]
  },
  {
   "cell_type": "code",
   "execution_count": 8,
   "id": "7be6b1c8-463e-4dbf-9d3a-402adc4ff651",
   "metadata": {},
   "outputs": [
    {
     "name": "stdout",
     "output_type": "stream",
     "text": [
      "Total number of cells expressing YAP1 in patient cid 3586: 5\n",
      "Total number of cells expressing WWTR1 in patient cid 3586: 283\n",
      "Total number of cells co-expressing YAP1 and WWTR1: 3\n"
     ]
    }
   ],
   "source": [
    "import pandas as pd\n",
    "from scipy.io import mmread\n",
    "\n",
    "# File paths\n",
    "barcodes_file = r\"E:\\iiser_project\\broad_filtered\\patient_mtx_features_barcodes\\CID3586\\barcodes.tsv\"\n",
    "genes_file = r\"E:\\iiser_project\\broad_filtered\\patient_mtx_features_barcodes\\CID3586\\genes.tsv\"\n",
    "matrix_file = r\"E:\\iiser_project\\broad_filtered\\patient_mtx_features_barcodes\\CID3586\\matrix.mtx\"\n",
    "\n",
    "# Load the barcodes file (each row represents a cell)\n",
    "barcodes = pd.read_csv(barcodes_file, header=None, sep='\\t')\n",
    "barcodes.columns = ['Barcode']\n",
    "\n",
    "# Load the genes file (Ensembl ID and Gene Name)\n",
    "genes = pd.read_csv(genes_file, sep='\\t')\n",
    "\n",
    "# Load the matrix file (sparse matrix)\n",
    "matrix = mmread(matrix_file).tocsc()\n",
    "\n",
    "# Filter for YAP1 and WWTR1 (TAZ) based on Gene_ID\n",
    "yap1_id = 'ENSG00000137693'  # YAP1 Ensembl ID\n",
    "wwtr1_id = 'ENSG00000018408'  # WWTR1 (TAZ) Ensembl ID\n",
    "\n",
    "# Get the index of YAP1 and WWTR1 in the genes DataFrame\n",
    "yap1_idx = genes[genes['Gene_ID'] == yap1_id].index[0]\n",
    "wwtr1_idx = genes[genes['Gene_ID'] == wwtr1_id].index[0]\n",
    "\n",
    "# Extract the expression data for YAP1 and WWTR1\n",
    "yap1_expression = matrix[yap1_idx, :]\n",
    "wwtr1_expression = matrix[wwtr1_idx, :]\n",
    "\n",
    "# Count non-zero expression for YAP1 and WWTR1 (indicating cells expressing these genes)\n",
    "yap1_cells = yap1_expression.nonzero()[1]\n",
    "wwtr1_cells = wwtr1_expression.nonzero()[1]\n",
    "\n",
    "# Get the barcodes of cells that express YAP1 and WWTR1\n",
    "yap1_barcodes = barcodes.iloc[yap1_cells]\n",
    "wwtr1_barcodes = barcodes.iloc[wwtr1_cells]\n",
    "\n",
    "# Display the results\n",
    "print(f\"Total number of cells expressing YAP1 in patient cid 3586: {yap1_barcodes.shape[0]}\")\n",
    "print(f\"Total number of cells expressing WWTR1 in patient cid 3586: {wwtr1_barcodes.shape[0]}\")\n",
    "\n",
    "coexpressed_cells = set(yap1_cells).intersection(set(wwtr1_cells))\n",
    "coexpressed_barcodes = barcodes.iloc[list(coexpressed_cells)]\n",
    "\n",
    "# Display the result\n",
    "print(f\"Total number of cells co-expressing YAP1 and WWTR1: {coexpressed_barcodes.shape[0]}\")\n",
    "\n",
    "\n",
    "print(\"line\")"
   ]
  },
  {
   "cell_type": "code",
   "execution_count": 9,
   "id": "8266aee6-5633-4793-afed-2751b2472c43",
   "metadata": {},
   "outputs": [
    {
     "name": "stdout",
     "output_type": "stream",
     "text": [
      "Total number of cells expressing both YAP1 and WWTR1 in patient CID3586: 3\n",
      "Total number of cells expressing only YAP1 in patient CID3586: 2\n",
      "Total number of cells expressing only WWTR1 in patient CID3586: 280\n"
     ]
    }
   ],
   "source": [
    "# Find common cells expressing both YAP1 and WWTR1\n",
    "common_cells = set(yap1_cells).intersection(set(wwtr1_cells))\n",
    "\n",
    "# Find cells expressing only YAP1\n",
    "only_yap1_cells = set(yap1_cells) - set(wwtr1_cells)\n",
    "\n",
    "# Find cells expressing only WWTR1\n",
    "only_wwtr1_cells = set(wwtr1_cells) - set(yap1_cells)\n",
    "\n",
    "# Get the barcodes for each category\n",
    "common_barcodes = barcodes.iloc[list(common_cells)]\n",
    "only_yap1_barcodes = barcodes.iloc[list(only_yap1_cells)]\n",
    "only_wwtr1_barcodes = barcodes.iloc[list(only_wwtr1_cells)]\n",
    "\n",
    "# Display the results\n",
    "print(f\"Total number of cells expressing both YAP1 and WWTR1 in patient CID3586: {len(common_cells)}\")\n",
    "print(f\"Total number of cells expressing only YAP1 in patient CID3586: {len(only_yap1_cells)}\")\n",
    "print(f\"Total number of cells expressing only WWTR1 in patient CID3586: {len(only_wwtr1_cells)}\")\n"
   ]
  },
  {
   "cell_type": "code",
   "execution_count": 3,
   "id": "d5ab4dd4-eba3-49c2-b9db-ef1a7914c2a4",
   "metadata": {},
   "outputs": [
    {
     "name": "stdout",
     "output_type": "stream",
     "text": [
      "Number of cells: 6178\n"
     ]
    }
   ],
   "source": [
    "num_cells = barcodes.shape[0]\n",
    "\n",
    "print(f\"Number of cells: {num_cells}\")"
   ]
  },
  {
   "cell_type": "code",
   "execution_count": 4,
   "id": "d460897d-068c-423a-b931-b6a83ce303d1",
   "metadata": {},
   "outputs": [
    {
     "name": "stdout",
     "output_type": "stream",
     "text": [
      "Patient CID3586: YAP1 cells = 5, WWTR1 cells = 283\n",
      "Patient CID3838: YAP1 cells = 47, WWTR1 cells = 225\n",
      "Patient CID3921: YAP1 cells = 8, WWTR1 cells = 478\n",
      "Patient CID3941: YAP1 cells = 0, WWTR1 cells = 59\n",
      "Patient CID3946: YAP1 cells = 0, WWTR1 cells = 11\n",
      "Patient CID3948: YAP1 cells = 1, WWTR1 cells = 84\n",
      "Patient CID3963: YAP1 cells = 2, WWTR1 cells = 230\n",
      "Patient CID4040: YAP1 cells = 20, WWTR1 cells = 197\n",
      "Patient CID4066: YAP1 cells = 164, WWTR1 cells = 1159\n",
      "Patient CID4067: YAP1 cells = 4, WWTR1 cells = 408\n",
      "Patient CID4290A: YAP1 cells = 12, WWTR1 cells = 1462\n",
      "Patient CID4398: YAP1 cells = 12, WWTR1 cells = 42\n",
      "Patient CID44041: YAP1 cells = 108, WWTR1 cells = 246\n",
      "Patient CID4461: YAP1 cells = 0, WWTR1 cells = 66\n",
      "Patient CID4463: YAP1 cells = 4, WWTR1 cells = 304\n",
      "Patient CID4465: YAP1 cells = 20, WWTR1 cells = 85\n",
      "Patient CID4471: YAP1 cells = 154, WWTR1 cells = 2019\n",
      "Patient CID4495: YAP1 cells = 9, WWTR1 cells = 906\n",
      "Patient CID44971: YAP1 cells = 99, WWTR1 cells = 1462\n",
      "Patient CID44991: YAP1 cells = 27, WWTR1 cells = 2559\n",
      "Patient CID4513: YAP1 cells = 0, WWTR1 cells = 1309\n",
      "Patient CID4515: YAP1 cells = 346, WWTR1 cells = 1398\n",
      "Patient CID45171: YAP1 cells = 4, WWTR1 cells = 531\n",
      "Patient CID4523: YAP1 cells = 24, WWTR1 cells = 613\n",
      "Patient CID4530N: YAP1 cells = 117, WWTR1 cells = 808\n",
      "Patient CID4535: YAP1 cells = 5, WWTR1 cells = 1805\n"
     ]
    }
   ],
   "source": [
    "import os\n",
    "import pandas as pd\n",
    "from scipy.io import mmread\n",
    "\n",
    "# Directory containing patient folders\n",
    "base_dir = r\"E:\\iiser_project\\broad_filtered\\patient_mtx_features_barcodes\"\n",
    "\n",
    "# Target gene IDs for YAP1 and WWTR1 (TAZ)\n",
    "yap1_id = 'ENSG00000137693'  # YAP1 Ensembl ID\n",
    "wwtr1_id = 'ENSG00000018408'  # WWTR1 (TAZ) Ensembl ID\n",
    "\n",
    "# Initialize dictionaries to store results\n",
    "yap1_counts = {}\n",
    "wwtr1_counts = {}\n",
    "\n",
    "# Iterate through each patient folder in the base directory\n",
    "for patient_folder in os.listdir(base_dir):\n",
    "    patient_path = os.path.join(base_dir, patient_folder)\n",
    "    \n",
    "    # File paths for the current patient\n",
    "    barcodes_file = os.path.join(patient_path, 'barcodes.tsv')\n",
    "    genes_file = os.path.join(patient_path, 'genes.tsv')\n",
    "    matrix_file = os.path.join(patient_path, 'matrix.mtx')\n",
    "    \n",
    "    # Load data files\n",
    "    barcodes = pd.read_csv(barcodes_file, header=None, sep='\\t')\n",
    "    barcodes.columns = ['Barcode']\n",
    "    genes = pd.read_csv(genes_file, sep='\\t')\n",
    "    matrix = mmread(matrix_file).tocsc()\n",
    "    \n",
    "    # Find indices of YAP1 and WWTR1 in genes file\n",
    "    try:\n",
    "        yap1_idx = genes[genes['Gene_ID'] == yap1_id].index[0]\n",
    "        wwtr1_idx = genes[genes['Gene_ID'] == wwtr1_id].index[0]\n",
    "    except IndexError:\n",
    "        print(f\"YAP1 or WWTR1 not found in genes file for {patient_folder}. Skipping.\")\n",
    "        continue\n",
    "\n",
    "    # Extract expression data\n",
    "    yap1_expression = matrix[yap1_idx, :]\n",
    "    wwtr1_expression = matrix[wwtr1_idx, :]\n",
    "\n",
    "    # Count non-zero expressions (cells expressing the genes)\n",
    "    yap1_cells = yap1_expression.nonzero()[1]\n",
    "    wwtr1_cells = wwtr1_expression.nonzero()[1]\n",
    "\n",
    "    # Store the count of cells expressing YAP1 and WWTR1 for each patient\n",
    "    yap1_counts[patient_folder] = len(yap1_cells)\n",
    "    wwtr1_counts[patient_folder] = len(wwtr1_cells)\n",
    "\n",
    "# Display the results\n",
    "for patient, yap1_count in yap1_counts.items():\n",
    "    print(f\"Patient {patient}: YAP1 cells = {yap1_count}, WWTR1 cells = {wwtr1_counts[patient]}\")\n"
   ]
  },
  {
   "cell_type": "code",
   "execution_count": 12,
   "id": "13e83b82-bdbf-4f57-9e4d-1b36f89dd87a",
   "metadata": {},
   "outputs": [
    {
     "name": "stdout",
     "output_type": "stream",
     "text": [
      "CSV file saved successfully.\n"
     ]
    }
   ],
   "source": [
    "import os\n",
    "import pandas as pd\n",
    "from scipy.io import mmread\n",
    "\n",
    "# Directory containing patient folders\n",
    "base_dir = r\"E:\\iiser_project\\broad_filtered\\patient_mtx_features_barcodes\"\n",
    "\n",
    "# Target gene IDs for YAP1 and WWTR1 (TAZ)\n",
    "yap1_id = 'ENSG00000137693'  # YAP1 Ensembl ID\n",
    "wwtr1_id = 'ENSG00000018408'  # WWTR1 (TAZ) Ensembl ID\n",
    "\n",
    "# Initialize a list to store results for each patient\n",
    "results = []\n",
    "\n",
    "# Iterate through each patient folder in the base directory\n",
    "for patient_folder in os.listdir(base_dir):\n",
    "    patient_path = os.path.join(base_dir, patient_folder)\n",
    "    \n",
    "    # File paths for the current patient\n",
    "    barcodes_file = os.path.join(patient_path, 'barcodes.tsv')\n",
    "    genes_file = os.path.join(patient_path, 'genes.tsv')\n",
    "    matrix_file = os.path.join(patient_path, 'matrix.mtx')\n",
    "    \n",
    "    # Load data files\n",
    "    barcodes = pd.read_csv(barcodes_file, header=None, sep='\\t')\n",
    "    barcodes.columns = ['Barcode']\n",
    "    genes = pd.read_csv(genes_file, sep='\\t')\n",
    "    matrix = mmread(matrix_file).tocsc()\n",
    "    \n",
    "    # Find indices of YAP1 and WWTR1 in genes file\n",
    "    try:\n",
    "        yap1_idx = genes[genes['Gene_ID'] == yap1_id].index[0]\n",
    "        wwtr1_idx = genes[genes['Gene_ID'] == wwtr1_id].index[0]\n",
    "    except IndexError:\n",
    "        print(f\"YAP1 or WWTR1 not found in genes file for {patient_folder}. Skipping.\")\n",
    "        continue\n",
    "\n",
    "    # Extract expression data\n",
    "    yap1_expression = matrix[yap1_idx, :]\n",
    "    wwtr1_expression = matrix[wwtr1_idx, :]\n",
    "\n",
    "    # Count non-zero expressions (cells expressing the genes)\n",
    "    yap1_cells = yap1_expression.nonzero()[1]\n",
    "    wwtr1_cells = wwtr1_expression.nonzero()[1]\n",
    "\n",
    "    common_cells = set(yap1_cells).intersection(set(wwtr1_cells))\n",
    "    only_yap1_cells = set(yap1_cells) - set(wwtr1_cells)\n",
    "    only_wwtr1_cells = set(wwtr1_cells) - set(yap1_cells)\n",
    "\n",
    "   # Append the detailed results to the list\n",
    "    results.append({\n",
    "        'Patient': patient_folder,\n",
    "        'Total_YAP1_Cell_Count': len(yap1_cells),\n",
    "        'Total_WWTR1_Cell_Count': len(wwtr1_cells),\n",
    "        'Both_YAP1_WWTR1_Cell_Count': len(common_cells),\n",
    "        'Only_YAP1_Cell_Count': len(only_yap1_cells),\n",
    "        'Only_WWTR1_Cell_Count': len(only_wwtr1_cells)\n",
    "    })\n",
    "# Convert the list of results to a DataFrame and save as CSV\n",
    "results_df = pd.DataFrame(results)\n",
    "results_df.to_csv(r\"E:\\iiser_project\\yap1_wwtr1_counts_details1.csv\", index=False)\n",
    "\n",
    "print(\"CSV file saved successfully.\")\n"
   ]
  },
  {
   "cell_type": "code",
   "execution_count": null,
   "id": "77562b72-2818-4a1f-adde-eff8c5697f96",
   "metadata": {},
   "outputs": [],
   "source": []
  }
 ],
 "metadata": {
  "kernelspec": {
   "display_name": "Python 3 (ipykernel)",
   "language": "python",
   "name": "python3"
  },
  "language_info": {
   "codemirror_mode": {
    "name": "ipython",
    "version": 3
   },
   "file_extension": ".py",
   "mimetype": "text/x-python",
   "name": "python",
   "nbconvert_exporter": "python",
   "pygments_lexer": "ipython3",
   "version": "3.11.5"
  }
 },
 "nbformat": 4,
 "nbformat_minor": 5
}

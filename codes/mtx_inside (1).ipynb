{
 "cells": [
  {
   "cell_type": "code",
   "execution_count": 1,
   "id": "f1fc6ac0-ecc3-4d45-8ef9-353a952cb7c4",
   "metadata": {},
   "outputs": [
    {
     "name": "stdout",
     "output_type": "stream",
     "text": [
      "<class 'scipy.sparse._coo.coo_matrix'>\n",
      "(29733, 100064)\n"
     ]
    }
   ],
   "source": [
    "from scipy.io import mmread\n",
    "\n",
    "# Load the .mtx file\n",
    "mtx_file_path = r\"E:\\iiser_project\\broad_filtered\\matrix.mtx\"  # Replace with the actual path\n",
    "mtx = mmread(mtx_file_path)\n",
    "\n",
    "# Check the type and structure\n",
    "print(type(mtx))  # Should be a sparse matrix (like coo_matrix)\n",
    "print(mtx.shape)  # Displays the shape (rows, columns) of the matrix\n"
   ]
  },
  {
   "cell_type": "code",
   "execution_count": 2,
   "id": "68323292-756d-48df-a04a-c31161d94880",
   "metadata": {},
   "outputs": [
    {
     "name": "stdout",
     "output_type": "stream",
     "text": [
      "%%MatrixMarket matrix coordinate real general\n",
      "29733 100064 177994136\n",
      "1 4976 2.62853577431505\n",
      "1 8947 0.16212459661938675\n",
      "1 8995 0.15797436568806306\n",
      "1 9098 0.3826595148093708\n",
      "1 10926 0.3986498785836939\n",
      "1 10992 0.5575770077216221\n",
      "1 11076 0.22638516034582404\n",
      "1 11114 0.15232963568249006\n"
     ]
    }
   ],
   "source": [
    "\n",
    "\n",
    "# Open and print the top 10 lines\n",
    "with open(mtx_file_path, 'r') as file:\n",
    "    for _ in range(10):\n",
    "        line = file.readline()\n",
    "        print(line.strip())\n"
   ]
  },
  {
   "cell_type": "code",
   "execution_count": null,
   "id": "c944c173-926b-4282-9de3-8c9b8cf4fa22",
   "metadata": {},
   "outputs": [],
   "source": []
  }
 ],
 "metadata": {
  "kernelspec": {
   "display_name": "Python 3 (ipykernel)",
   "language": "python",
   "name": "python3"
  },
  "language_info": {
   "codemirror_mode": {
    "name": "ipython",
    "version": 3
   },
   "file_extension": ".py",
   "mimetype": "text/x-python",
   "name": "python",
   "nbconvert_exporter": "python",
   "pygments_lexer": "ipython3",
   "version": "3.11.5"
  }
 },
 "nbformat": 4,
 "nbformat_minor": 5
}
